{
  "nbformat": 4,
  "nbformat_minor": 0,
  "metadata": {
    "kernelspec": {
      "name": "python388jvsc74a57bd0ee3f911196a4973fb8814cb027efcbeb8a49ed735f0d8d24476be6ad7539dca9",
      "display_name": "Python 3.8.8 64-bit ('ML': conda)"
    },
    "language_info": {
      "codemirror_mode": {
        "name": "ipython",
        "version": 3
      },
      "file_extension": ".py",
      "mimetype": "text/x-python",
      "name": "python",
      "nbconvert_exporter": "python",
      "pygments_lexer": "ipython3",
      "version": "3.8.8"
    },
    "colab": {
      "name": "preprocessing 4.ipynb",
      "provenance": [],
      "collapsed_sections": []
    }
  },
  "cells": [
    {
      "cell_type": "code",
      "metadata": {
        "id": "gZhqxpznOZWS"
      },
      "source": [
        "import pandas as pd\n",
        "import numpy as np\n",
        "import requests\n",
        "import bs4 as bs\n",
        "import urllib.request"
      ],
      "execution_count": 1,
      "outputs": []
    },
    {
      "cell_type": "markdown",
      "metadata": {
        "id": "xhXPbpjhOZWT"
      },
      "source": [
        "## Extracting features of 2021 movies from Wikipedia"
      ]
    },
    {
      "cell_type": "code",
      "metadata": {
        "id": "1o9WJASWOZWT"
      },
      "source": [
        "link = \"https://en.wikipedia.org/wiki/List_of_American_films_of_2021\""
      ],
      "execution_count": 2,
      "outputs": []
    },
    {
      "cell_type": "code",
      "metadata": {
        "id": "TIlfZhgwOZWT"
      },
      "source": [
        "source = urllib.request.urlopen(link).read()\n",
        "soup = bs.BeautifulSoup(source,'lxml')"
      ],
      "execution_count": 3,
      "outputs": []
    },
    {
      "cell_type": "code",
      "metadata": {
        "id": "LFytQ2MaOZWT"
      },
      "source": [
        "tables = soup.find_all('table',class_='wikitable sortable')"
      ],
      "execution_count": 4,
      "outputs": []
    },
    {
      "cell_type": "code",
      "metadata": {
        "colab": {
          "base_uri": "https://localhost:8080/"
        },
        "id": "CdSLuBzGOZWT",
        "outputId": "a59c27fc-00d2-4acd-e5c8-3dd746d78baa"
      },
      "source": [
        "len(tables)"
      ],
      "execution_count": 5,
      "outputs": [
        {
          "output_type": "execute_result",
          "data": {
            "text/plain": [
              "4"
            ]
          },
          "metadata": {},
          "execution_count": 5
        }
      ]
    },
    {
      "cell_type": "code",
      "metadata": {
        "colab": {
          "base_uri": "https://localhost:8080/"
        },
        "id": "VoX7c9O-OZWU",
        "outputId": "78637bfa-e750-4c01-df0a-c791c80097b3"
      },
      "source": [
        "type(tables[0])"
      ],
      "execution_count": 6,
      "outputs": [
        {
          "output_type": "execute_result",
          "data": {
            "text/plain": [
              "bs4.element.Tag"
            ]
          },
          "metadata": {},
          "execution_count": 6
        }
      ]
    },
    {
      "cell_type": "code",
      "metadata": {
        "id": "1y2cECOMOZWU"
      },
      "source": [
        "df1 = pd.read_html(str(tables[0]))[0]\n",
        "df2 = pd.read_html(str(tables[1]))[0]\n",
        "df3 = pd.read_html(str(tables[2]))[0]\n",
        "df4 = pd.read_html(str(tables[3]).replace(\"'1\\\"\\'\",'\"1\"'))[0] # avoided \"ValueError: invalid literal for int() with base 10: '1\"'"
      ],
      "execution_count": 7,
      "outputs": []
    },
    {
      "cell_type": "code",
      "metadata": {
        "id": "t4MN1gZbOZWU"
      },
      "source": [
        "df = df1.append(df2.append(df3.append(df4,ignore_index=True),ignore_index=True),ignore_index=True)"
      ],
      "execution_count": 8,
      "outputs": []
    },
    {
      "cell_type": "code",
      "metadata": {
        "colab": {
          "base_uri": "https://localhost:8080/",
          "height": 406
        },
        "id": "4CCunB-rOZWU",
        "outputId": "a4d69bcd-088c-4655-a445-e8ebafdb10e6"
      },
      "source": [
        "df"
      ],
      "execution_count": 9,
      "outputs": [
        {
          "output_type": "execute_result",
          "data": {
            "text/plain": [
              "      Opening  Opening.1                Title  \\\n",
              "0     JANUARY          1  Shadow in the Cloud   \n",
              "1     JANUARY         13      The White Tiger   \n",
              "2     JANUARY         14          Locked Down   \n",
              "3     JANUARY         15              The Dig   \n",
              "4     JANUARY         15     Outside the Wire   \n",
              "..        ...        ...                  ...   \n",
              "198  DECEMBER         22         The Matrix 4   \n",
              "199  DECEMBER         22               Sing 2   \n",
              "200  DECEMBER         22       The King's Man   \n",
              "201  DECEMBER         22      Downton Abbey 2   \n",
              "202  DECEMBER         25               Cyrano   \n",
              "\n",
              "                                    Production company  \\\n",
              "0                               Vertical Entertainment   \n",
              "1                                              Netflix   \n",
              "2                      HBO Max / Warner Bros. Pictures   \n",
              "3                          Netflix / Clerkenwell Films   \n",
              "4                                              Netflix   \n",
              "..                                                 ...   \n",
              "198  HBO Max / Warner Bros. Pictures / Village Road...   \n",
              "199                  Universal Pictures / Illumination   \n",
              "200                  20th Century Studios / Marv Films   \n",
              "201                    Focus Features / Carnival Films   \n",
              "202          Metro-Goldwyn-Mayer / Working Title Films   \n",
              "\n",
              "                                         Cast and crew  Ref   Ref.  \n",
              "0    Roseanne Liang (director/screenplay); Max Land...  [2]    NaN  \n",
              "1    Ramin Bahrani (director/screenplay); Adarsh Go...  NaN    NaN  \n",
              "2    Doug Liman (director); Steven Knight (screenpl...  [3]    NaN  \n",
              "3    Simon Stone (director); Moira Buffini (screenp...  [4]    NaN  \n",
              "4    Mikael Håfström (director); Rob Yescombe, Rowa...  [5]    NaN  \n",
              "..                                                 ...  ...    ...  \n",
              "198  Lana Wachowski (director/screenplay); Aleksand...  NaN  [155]  \n",
              "199  Garth Jennings (director/screenplay); Matthew ...  NaN  [156]  \n",
              "200  Matthew Vaughn (director/screenplay); Karl Gaj...  NaN  [106]  \n",
              "201  Simon Curtis (director); Julian Fellowes (scre...  NaN  [157]  \n",
              "202  Joe Wright (director); Erica Schmidt (screenpl...  NaN  [152]  \n",
              "\n",
              "[203 rows x 7 columns]"
            ],
            "text/html": "<div>\n<style scoped>\n    .dataframe tbody tr th:only-of-type {\n        vertical-align: middle;\n    }\n\n    .dataframe tbody tr th {\n        vertical-align: top;\n    }\n\n    .dataframe thead th {\n        text-align: right;\n    }\n</style>\n<table border=\"1\" class=\"dataframe\">\n  <thead>\n    <tr style=\"text-align: right;\">\n      <th></th>\n      <th>Opening</th>\n      <th>Opening.1</th>\n      <th>Title</th>\n      <th>Production company</th>\n      <th>Cast and crew</th>\n      <th>Ref</th>\n      <th>Ref.</th>\n    </tr>\n  </thead>\n  <tbody>\n    <tr>\n      <th>0</th>\n      <td>JANUARY</td>\n      <td>1</td>\n      <td>Shadow in the Cloud</td>\n      <td>Vertical Entertainment</td>\n      <td>Roseanne Liang (director/screenplay); Max Land...</td>\n      <td>[2]</td>\n      <td>NaN</td>\n    </tr>\n    <tr>\n      <th>1</th>\n      <td>JANUARY</td>\n      <td>13</td>\n      <td>The White Tiger</td>\n      <td>Netflix</td>\n      <td>Ramin Bahrani (director/screenplay); Adarsh Go...</td>\n      <td>NaN</td>\n      <td>NaN</td>\n    </tr>\n    <tr>\n      <th>2</th>\n      <td>JANUARY</td>\n      <td>14</td>\n      <td>Locked Down</td>\n      <td>HBO Max / Warner Bros. Pictures</td>\n      <td>Doug Liman (director); Steven Knight (screenpl...</td>\n      <td>[3]</td>\n      <td>NaN</td>\n    </tr>\n    <tr>\n      <th>3</th>\n      <td>JANUARY</td>\n      <td>15</td>\n      <td>The Dig</td>\n      <td>Netflix / Clerkenwell Films</td>\n      <td>Simon Stone (director); Moira Buffini (screenp...</td>\n      <td>[4]</td>\n      <td>NaN</td>\n    </tr>\n    <tr>\n      <th>4</th>\n      <td>JANUARY</td>\n      <td>15</td>\n      <td>Outside the Wire</td>\n      <td>Netflix</td>\n      <td>Mikael Håfström (director); Rob Yescombe, Rowa...</td>\n      <td>[5]</td>\n      <td>NaN</td>\n    </tr>\n    <tr>\n      <th>...</th>\n      <td>...</td>\n      <td>...</td>\n      <td>...</td>\n      <td>...</td>\n      <td>...</td>\n      <td>...</td>\n      <td>...</td>\n    </tr>\n    <tr>\n      <th>198</th>\n      <td>DECEMBER</td>\n      <td>22</td>\n      <td>The Matrix 4</td>\n      <td>HBO Max / Warner Bros. Pictures / Village Road...</td>\n      <td>Lana Wachowski (director/screenplay); Aleksand...</td>\n      <td>NaN</td>\n      <td>[155]</td>\n    </tr>\n    <tr>\n      <th>199</th>\n      <td>DECEMBER</td>\n      <td>22</td>\n      <td>Sing 2</td>\n      <td>Universal Pictures / Illumination</td>\n      <td>Garth Jennings (director/screenplay); Matthew ...</td>\n      <td>NaN</td>\n      <td>[156]</td>\n    </tr>\n    <tr>\n      <th>200</th>\n      <td>DECEMBER</td>\n      <td>22</td>\n      <td>The King's Man</td>\n      <td>20th Century Studios / Marv Films</td>\n      <td>Matthew Vaughn (director/screenplay); Karl Gaj...</td>\n      <td>NaN</td>\n      <td>[106]</td>\n    </tr>\n    <tr>\n      <th>201</th>\n      <td>DECEMBER</td>\n      <td>22</td>\n      <td>Downton Abbey 2</td>\n      <td>Focus Features / Carnival Films</td>\n      <td>Simon Curtis (director); Julian Fellowes (scre...</td>\n      <td>NaN</td>\n      <td>[157]</td>\n    </tr>\n    <tr>\n      <th>202</th>\n      <td>DECEMBER</td>\n      <td>25</td>\n      <td>Cyrano</td>\n      <td>Metro-Goldwyn-Mayer / Working Title Films</td>\n      <td>Joe Wright (director); Erica Schmidt (screenpl...</td>\n      <td>NaN</td>\n      <td>[152]</td>\n    </tr>\n  </tbody>\n</table>\n<p>203 rows × 7 columns</p>\n</div>"
          },
          "metadata": {},
          "execution_count": 9
        }
      ]
    },
    {
      "cell_type": "code",
      "metadata": {
        "id": "9enI6QkuOZWV"
      },
      "source": [
        "df_2021 = df[['Title','Cast and crew']]"
      ],
      "execution_count": 10,
      "outputs": []
    },
    {
      "cell_type": "code",
      "metadata": {
        "colab": {
          "base_uri": "https://localhost:8080/",
          "height": 406
        },
        "id": "RT0jPJQQOZWV",
        "outputId": "2d6ab58f-996f-4099-e7bb-3e29abadf43c"
      },
      "source": [
        "df_2021"
      ],
      "execution_count": 11,
      "outputs": [
        {
          "output_type": "execute_result",
          "data": {
            "text/plain": [
              "                   Title                                      Cast and crew\n",
              "0    Shadow in the Cloud  Roseanne Liang (director/screenplay); Max Land...\n",
              "1        The White Tiger  Ramin Bahrani (director/screenplay); Adarsh Go...\n",
              "2            Locked Down  Doug Liman (director); Steven Knight (screenpl...\n",
              "3                The Dig  Simon Stone (director); Moira Buffini (screenp...\n",
              "4       Outside the Wire  Mikael Håfström (director); Rob Yescombe, Rowa...\n",
              "..                   ...                                                ...\n",
              "198         The Matrix 4  Lana Wachowski (director/screenplay); Aleksand...\n",
              "199               Sing 2  Garth Jennings (director/screenplay); Matthew ...\n",
              "200       The King's Man  Matthew Vaughn (director/screenplay); Karl Gaj...\n",
              "201      Downton Abbey 2  Simon Curtis (director); Julian Fellowes (scre...\n",
              "202               Cyrano  Joe Wright (director); Erica Schmidt (screenpl...\n",
              "\n",
              "[203 rows x 2 columns]"
            ],
            "text/html": "<div>\n<style scoped>\n    .dataframe tbody tr th:only-of-type {\n        vertical-align: middle;\n    }\n\n    .dataframe tbody tr th {\n        vertical-align: top;\n    }\n\n    .dataframe thead th {\n        text-align: right;\n    }\n</style>\n<table border=\"1\" class=\"dataframe\">\n  <thead>\n    <tr style=\"text-align: right;\">\n      <th></th>\n      <th>Title</th>\n      <th>Cast and crew</th>\n    </tr>\n  </thead>\n  <tbody>\n    <tr>\n      <th>0</th>\n      <td>Shadow in the Cloud</td>\n      <td>Roseanne Liang (director/screenplay); Max Land...</td>\n    </tr>\n    <tr>\n      <th>1</th>\n      <td>The White Tiger</td>\n      <td>Ramin Bahrani (director/screenplay); Adarsh Go...</td>\n    </tr>\n    <tr>\n      <th>2</th>\n      <td>Locked Down</td>\n      <td>Doug Liman (director); Steven Knight (screenpl...</td>\n    </tr>\n    <tr>\n      <th>3</th>\n      <td>The Dig</td>\n      <td>Simon Stone (director); Moira Buffini (screenp...</td>\n    </tr>\n    <tr>\n      <th>4</th>\n      <td>Outside the Wire</td>\n      <td>Mikael Håfström (director); Rob Yescombe, Rowa...</td>\n    </tr>\n    <tr>\n      <th>...</th>\n      <td>...</td>\n      <td>...</td>\n    </tr>\n    <tr>\n      <th>198</th>\n      <td>The Matrix 4</td>\n      <td>Lana Wachowski (director/screenplay); Aleksand...</td>\n    </tr>\n    <tr>\n      <th>199</th>\n      <td>Sing 2</td>\n      <td>Garth Jennings (director/screenplay); Matthew ...</td>\n    </tr>\n    <tr>\n      <th>200</th>\n      <td>The King's Man</td>\n      <td>Matthew Vaughn (director/screenplay); Karl Gaj...</td>\n    </tr>\n    <tr>\n      <th>201</th>\n      <td>Downton Abbey 2</td>\n      <td>Simon Curtis (director); Julian Fellowes (scre...</td>\n    </tr>\n    <tr>\n      <th>202</th>\n      <td>Cyrano</td>\n      <td>Joe Wright (director); Erica Schmidt (screenpl...</td>\n    </tr>\n  </tbody>\n</table>\n<p>203 rows × 2 columns</p>\n</div>"
          },
          "metadata": {},
          "execution_count": 11
        }
      ]
    },
    {
      "cell_type": "code",
      "metadata": {
        "id": "61XvcEzPOZWV"
      },
      "source": [
        "from tmdbv3api import TMDb\n",
        "import json\n",
        "import requests\n",
        "tmdb = TMDb()\n",
        "tmdb.api_key = '4b737767c5fd66bafa4961b46c69cb07'"
      ],
      "execution_count": 12,
      "outputs": []
    },
    {
      "cell_type": "code",
      "metadata": {
        "id": "_4q66M86OfgF"
      },
      "source": [
        "from tmdbv3api import Movie\n",
        "tmdb_movie = Movie() \n",
        "def get_genre(x):\n",
        "    genres = []\n",
        "    result = tmdb_movie.search(x)\n",
        "    if not result:\n",
        "      return np.NaN\n",
        "    else:\n",
        "      movie_id = result[0].id\n",
        "      response = requests.get('https://api.themoviedb.org/3/movie/{}?api_key={}'.format(movie_id,tmdb.api_key))\n",
        "      data_json = response.json()\n",
        "      if data_json['genres']:\n",
        "          genre_str = \" \" \n",
        "          for i in range(0,len(data_json['genres'])):\n",
        "              genres.append(data_json['genres'][i]['name'])\n",
        "          return genre_str.join(genres)\n",
        "      else:\n",
        "          return np.NaN"
      ],
      "execution_count": 13,
      "outputs": []
    },
    {
      "cell_type": "code",
      "metadata": {
        "scrolled": true,
        "colab": {
          "base_uri": "https://localhost:8080/"
        },
        "id": "uSjX4AsmOZWV",
        "outputId": "da21d28b-1f7a-4171-8b87-2eabcc897a8d"
      },
      "source": [
        "df_2021['genres'] = df_2021['Title'].map(lambda x: get_genre(str(x)))"
      ],
      "execution_count": 14,
      "outputs": [
        {
          "output_type": "stream",
          "name": "stderr",
          "text": [
            "<ipython-input-14-252c1cda1e49>:1: SettingWithCopyWarning: \nA value is trying to be set on a copy of a slice from a DataFrame.\nTry using .loc[row_indexer,col_indexer] = value instead\n\nSee the caveats in the documentation: https://pandas.pydata.org/pandas-docs/stable/user_guide/indexing.html#returning-a-view-versus-a-copy\n  df_2021['genres'] = df_2021['Title'].map(lambda x: get_genre(str(x)))\n"
          ]
        }
      ]
    },
    {
      "cell_type": "code",
      "metadata": {
        "colab": {
          "base_uri": "https://localhost:8080/",
          "height": 406
        },
        "id": "aiwOqJZMOZWV",
        "outputId": "032dfad5-985e-4d24-9fed-ed92c9edfba3"
      },
      "source": [
        "df_2021"
      ],
      "execution_count": 15,
      "outputs": [
        {
          "output_type": "execute_result",
          "data": {
            "text/plain": [
              "                   Title                                      Cast and crew  \\\n",
              "0    Shadow in the Cloud  Roseanne Liang (director/screenplay); Max Land...   \n",
              "1        The White Tiger  Ramin Bahrani (director/screenplay); Adarsh Go...   \n",
              "2            Locked Down  Doug Liman (director); Steven Knight (screenpl...   \n",
              "3                The Dig  Simon Stone (director); Moira Buffini (screenp...   \n",
              "4       Outside the Wire  Mikael Håfström (director); Rob Yescombe, Rowa...   \n",
              "..                   ...                                                ...   \n",
              "198         The Matrix 4  Lana Wachowski (director/screenplay); Aleksand...   \n",
              "199               Sing 2  Garth Jennings (director/screenplay); Matthew ...   \n",
              "200       The King's Man  Matthew Vaughn (director/screenplay); Karl Gaj...   \n",
              "201      Downton Abbey 2  Simon Curtis (director); Julian Fellowes (scre...   \n",
              "202               Cyrano  Joe Wright (director); Erica Schmidt (screenpl...   \n",
              "\n",
              "                              genres  \n",
              "0                  Horror Action War  \n",
              "1                        Crime Drama  \n",
              "2                 Comedy Crime Drama  \n",
              "3                      Drama History  \n",
              "4    Thriller Action Science Fiction  \n",
              "..                               ...  \n",
              "198           Action Science Fiction  \n",
              "199    Music Animation Comedy Family  \n",
              "200          Action Adventure Comedy  \n",
              "201                            Drama  \n",
              "202     Drama Comedy History Romance  \n",
              "\n",
              "[203 rows x 3 columns]"
            ],
            "text/html": "<div>\n<style scoped>\n    .dataframe tbody tr th:only-of-type {\n        vertical-align: middle;\n    }\n\n    .dataframe tbody tr th {\n        vertical-align: top;\n    }\n\n    .dataframe thead th {\n        text-align: right;\n    }\n</style>\n<table border=\"1\" class=\"dataframe\">\n  <thead>\n    <tr style=\"text-align: right;\">\n      <th></th>\n      <th>Title</th>\n      <th>Cast and crew</th>\n      <th>genres</th>\n    </tr>\n  </thead>\n  <tbody>\n    <tr>\n      <th>0</th>\n      <td>Shadow in the Cloud</td>\n      <td>Roseanne Liang (director/screenplay); Max Land...</td>\n      <td>Horror Action War</td>\n    </tr>\n    <tr>\n      <th>1</th>\n      <td>The White Tiger</td>\n      <td>Ramin Bahrani (director/screenplay); Adarsh Go...</td>\n      <td>Crime Drama</td>\n    </tr>\n    <tr>\n      <th>2</th>\n      <td>Locked Down</td>\n      <td>Doug Liman (director); Steven Knight (screenpl...</td>\n      <td>Comedy Crime Drama</td>\n    </tr>\n    <tr>\n      <th>3</th>\n      <td>The Dig</td>\n      <td>Simon Stone (director); Moira Buffini (screenp...</td>\n      <td>Drama History</td>\n    </tr>\n    <tr>\n      <th>4</th>\n      <td>Outside the Wire</td>\n      <td>Mikael Håfström (director); Rob Yescombe, Rowa...</td>\n      <td>Thriller Action Science Fiction</td>\n    </tr>\n    <tr>\n      <th>...</th>\n      <td>...</td>\n      <td>...</td>\n      <td>...</td>\n    </tr>\n    <tr>\n      <th>198</th>\n      <td>The Matrix 4</td>\n      <td>Lana Wachowski (director/screenplay); Aleksand...</td>\n      <td>Action Science Fiction</td>\n    </tr>\n    <tr>\n      <th>199</th>\n      <td>Sing 2</td>\n      <td>Garth Jennings (director/screenplay); Matthew ...</td>\n      <td>Music Animation Comedy Family</td>\n    </tr>\n    <tr>\n      <th>200</th>\n      <td>The King's Man</td>\n      <td>Matthew Vaughn (director/screenplay); Karl Gaj...</td>\n      <td>Action Adventure Comedy</td>\n    </tr>\n    <tr>\n      <th>201</th>\n      <td>Downton Abbey 2</td>\n      <td>Simon Curtis (director); Julian Fellowes (scre...</td>\n      <td>Drama</td>\n    </tr>\n    <tr>\n      <th>202</th>\n      <td>Cyrano</td>\n      <td>Joe Wright (director); Erica Schmidt (screenpl...</td>\n      <td>Drama Comedy History Romance</td>\n    </tr>\n  </tbody>\n</table>\n<p>203 rows × 3 columns</p>\n</div>"
          },
          "metadata": {},
          "execution_count": 15
        }
      ]
    },
    {
      "cell_type": "code",
      "metadata": {
        "id": "GcqUuFyiOZWW"
      },
      "source": [
        "def get_director(x):\n",
        "    if \" (director)\" in x:\n",
        "        return x.split(\" (director)\")[0]\n",
        "    elif \" (directors)\" in x:\n",
        "        return x.split(\" (directors)\")[0]\n",
        "    else:\n",
        "        return x.split(\" (director/screenplay)\")[0]"
      ],
      "execution_count": 16,
      "outputs": []
    },
    {
      "cell_type": "code",
      "metadata": {
        "colab": {
          "base_uri": "https://localhost:8080/"
        },
        "id": "A7RzXkBQOZWW",
        "outputId": "161deb48-6037-468b-c4b4-44cd51d0efc1"
      },
      "source": [
        "df_2021['director_name'] = df_2021['Cast and crew'].map(lambda x: get_director(str(x)))"
      ],
      "execution_count": 17,
      "outputs": [
        {
          "output_type": "stream",
          "name": "stderr",
          "text": [
            "<ipython-input-17-059d9cfe3ca6>:1: SettingWithCopyWarning: \nA value is trying to be set on a copy of a slice from a DataFrame.\nTry using .loc[row_indexer,col_indexer] = value instead\n\nSee the caveats in the documentation: https://pandas.pydata.org/pandas-docs/stable/user_guide/indexing.html#returning-a-view-versus-a-copy\n  df_2021['director_name'] = df_2021['Cast and crew'].map(lambda x: get_director(str(x)))\n"
          ]
        }
      ]
    },
    {
      "cell_type": "code",
      "metadata": {
        "id": "wwBWFgBSOZWW"
      },
      "source": [
        "def get_actor1(x):\n",
        "    return ((x.split(\"screenplay); \")[-1]).split(\", \")[0])"
      ],
      "execution_count": 18,
      "outputs": []
    },
    {
      "cell_type": "code",
      "metadata": {
        "colab": {
          "base_uri": "https://localhost:8080/"
        },
        "id": "gxr9Y4IJOZWW",
        "outputId": "68904c09-7d50-424d-e908-804489e84d05"
      },
      "source": [
        "df_2021['actor_1_name'] = df_2021['Cast and crew'].map(lambda x: get_actor1(str(x)))"
      ],
      "execution_count": 19,
      "outputs": [
        {
          "output_type": "stream",
          "name": "stderr",
          "text": [
            "<ipython-input-19-fbf9a4980306>:1: SettingWithCopyWarning: \nA value is trying to be set on a copy of a slice from a DataFrame.\nTry using .loc[row_indexer,col_indexer] = value instead\n\nSee the caveats in the documentation: https://pandas.pydata.org/pandas-docs/stable/user_guide/indexing.html#returning-a-view-versus-a-copy\n  df_2021['actor_1_name'] = df_2021['Cast and crew'].map(lambda x: get_actor1(str(x)))\n"
          ]
        }
      ]
    },
    {
      "cell_type": "code",
      "metadata": {
        "id": "Qc7I49gVOZWX"
      },
      "source": [
        "def get_actor2(x):\n",
        "    if len((x.split(\"screenplay); \")[-1]).split(\", \")) < 2:\n",
        "        return np.NaN\n",
        "    else:\n",
        "        return ((x.split(\"screenplay); \")[-1]).split(\", \")[1])"
      ],
      "execution_count": 20,
      "outputs": []
    },
    {
      "cell_type": "code",
      "metadata": {
        "id": "ipspWbjaOZWX"
      },
      "source": [
        "df_2021['actor_2_name'] = df_2021['Cast and crew'].map(lambda x: get_actor2(str(x)))"
      ],
      "execution_count": 21,
      "outputs": [
        {
          "output_type": "stream",
          "name": "stderr",
          "text": [
            "<ipython-input-21-597eaf6de001>:1: SettingWithCopyWarning: \nA value is trying to be set on a copy of a slice from a DataFrame.\nTry using .loc[row_indexer,col_indexer] = value instead\n\nSee the caveats in the documentation: https://pandas.pydata.org/pandas-docs/stable/user_guide/indexing.html#returning-a-view-versus-a-copy\n  df_2021['actor_2_name'] = df_2021['Cast and crew'].map(lambda x: get_actor2(str(x)))\n"
          ]
        }
      ]
    },
    {
      "cell_type": "code",
      "metadata": {
        "id": "pQmab5aiOZWX"
      },
      "source": [
        "def get_actor3(x):\n",
        "    if len((x.split(\"screenplay); \")[-1]).split(\", \")) < 3:\n",
        "        return np.NaN\n",
        "    else:\n",
        "        return ((x.split(\"screenplay); \")[-1]).split(\", \")[2])"
      ],
      "execution_count": 22,
      "outputs": []
    },
    {
      "cell_type": "code",
      "metadata": {
        "id": "vWSs45LWOZWX"
      },
      "source": [
        "df_2021['actor_3_name'] = df_2021['Cast and crew'].map(lambda x: get_actor3(str(x)))"
      ],
      "execution_count": 23,
      "outputs": []
    },
    {
      "cell_type": "code",
      "metadata": {
        "colab": {
          "base_uri": "https://localhost:8080/",
          "height": 406
        },
        "id": "2xDIRn7DOZWX",
        "outputId": "ad8d83b3-a608-43db-eeff-53a434ab3d4f"
      },
      "source": [
        "df_2021"
      ],
      "execution_count": 24,
      "outputs": [
        {
          "output_type": "execute_result",
          "data": {
            "text/plain": [
              "                   Title                                      Cast and crew  \\\n",
              "0    Shadow in the Cloud  Roseanne Liang (director/screenplay); Max Land...   \n",
              "1        The White Tiger  Ramin Bahrani (director/screenplay); Adarsh Go...   \n",
              "2            Locked Down  Doug Liman (director); Steven Knight (screenpl...   \n",
              "3                The Dig  Simon Stone (director); Moira Buffini (screenp...   \n",
              "4       Outside the Wire  Mikael Håfström (director); Rob Yescombe, Rowa...   \n",
              "..                   ...                                                ...   \n",
              "198         The Matrix 4  Lana Wachowski (director/screenplay); Aleksand...   \n",
              "199               Sing 2  Garth Jennings (director/screenplay); Matthew ...   \n",
              "200       The King's Man  Matthew Vaughn (director/screenplay); Karl Gaj...   \n",
              "201      Downton Abbey 2  Simon Curtis (director); Julian Fellowes (scre...   \n",
              "202               Cyrano  Joe Wright (director); Erica Schmidt (screenpl...   \n",
              "\n",
              "                              genres    director_name         actor_1_name  \\\n",
              "0                  Horror Action War   Roseanne Liang   Chloë Grace Moretz   \n",
              "1                        Crime Drama    Ramin Bahrani        Adarsh Gourav   \n",
              "2                 Comedy Crime Drama       Doug Liman        Anne Hathaway   \n",
              "3                      Drama History      Simon Stone       Carey Mulligan   \n",
              "4    Thriller Action Science Fiction  Mikael Håfström       Anthony Mackie   \n",
              "..                               ...              ...                  ...   \n",
              "198           Action Science Fiction   Lana Wachowski         Keanu Reeves   \n",
              "199    Music Animation Comedy Family   Garth Jennings  Matthew McConaughey   \n",
              "200          Action Adventure Comedy   Matthew Vaughn        Ralph Fiennes   \n",
              "201                            Drama     Simon Curtis      Hugh Bonneville   \n",
              "202     Drama Comedy History Romance       Joe Wright       Peter Dinklage   \n",
              "\n",
              "          actor_2_name           actor_3_name  \n",
              "0    Taylor John Smith           Beulah Koale  \n",
              "1        Rajkummar Rao  Priyanka Chopra Jonas  \n",
              "2     Chiwetel Ejiofor       Stephen Merchant  \n",
              "3        Ralph Fiennes             Lily James  \n",
              "4         Damson Idris          Emily Beecham  \n",
              "..                 ...                    ...  \n",
              "198   Carrie-Anne Moss  Yahya Abdul-Mateen II  \n",
              "199  Reese Witherspoon     Scarlett Johansson  \n",
              "200     Gemma Arterton             Rhys Ifans  \n",
              "201         Jim Carter       Michelle Dockery  \n",
              "202      Haley Bennett         Ben Mendelsohn  \n",
              "\n",
              "[203 rows x 7 columns]"
            ],
            "text/html": "<div>\n<style scoped>\n    .dataframe tbody tr th:only-of-type {\n        vertical-align: middle;\n    }\n\n    .dataframe tbody tr th {\n        vertical-align: top;\n    }\n\n    .dataframe thead th {\n        text-align: right;\n    }\n</style>\n<table border=\"1\" class=\"dataframe\">\n  <thead>\n    <tr style=\"text-align: right;\">\n      <th></th>\n      <th>Title</th>\n      <th>Cast and crew</th>\n      <th>genres</th>\n      <th>director_name</th>\n      <th>actor_1_name</th>\n      <th>actor_2_name</th>\n      <th>actor_3_name</th>\n    </tr>\n  </thead>\n  <tbody>\n    <tr>\n      <th>0</th>\n      <td>Shadow in the Cloud</td>\n      <td>Roseanne Liang (director/screenplay); Max Land...</td>\n      <td>Horror Action War</td>\n      <td>Roseanne Liang</td>\n      <td>Chloë Grace Moretz</td>\n      <td>Taylor John Smith</td>\n      <td>Beulah Koale</td>\n    </tr>\n    <tr>\n      <th>1</th>\n      <td>The White Tiger</td>\n      <td>Ramin Bahrani (director/screenplay); Adarsh Go...</td>\n      <td>Crime Drama</td>\n      <td>Ramin Bahrani</td>\n      <td>Adarsh Gourav</td>\n      <td>Rajkummar Rao</td>\n      <td>Priyanka Chopra Jonas</td>\n    </tr>\n    <tr>\n      <th>2</th>\n      <td>Locked Down</td>\n      <td>Doug Liman (director); Steven Knight (screenpl...</td>\n      <td>Comedy Crime Drama</td>\n      <td>Doug Liman</td>\n      <td>Anne Hathaway</td>\n      <td>Chiwetel Ejiofor</td>\n      <td>Stephen Merchant</td>\n    </tr>\n    <tr>\n      <th>3</th>\n      <td>The Dig</td>\n      <td>Simon Stone (director); Moira Buffini (screenp...</td>\n      <td>Drama History</td>\n      <td>Simon Stone</td>\n      <td>Carey Mulligan</td>\n      <td>Ralph Fiennes</td>\n      <td>Lily James</td>\n    </tr>\n    <tr>\n      <th>4</th>\n      <td>Outside the Wire</td>\n      <td>Mikael Håfström (director); Rob Yescombe, Rowa...</td>\n      <td>Thriller Action Science Fiction</td>\n      <td>Mikael Håfström</td>\n      <td>Anthony Mackie</td>\n      <td>Damson Idris</td>\n      <td>Emily Beecham</td>\n    </tr>\n    <tr>\n      <th>...</th>\n      <td>...</td>\n      <td>...</td>\n      <td>...</td>\n      <td>...</td>\n      <td>...</td>\n      <td>...</td>\n      <td>...</td>\n    </tr>\n    <tr>\n      <th>198</th>\n      <td>The Matrix 4</td>\n      <td>Lana Wachowski (director/screenplay); Aleksand...</td>\n      <td>Action Science Fiction</td>\n      <td>Lana Wachowski</td>\n      <td>Keanu Reeves</td>\n      <td>Carrie-Anne Moss</td>\n      <td>Yahya Abdul-Mateen II</td>\n    </tr>\n    <tr>\n      <th>199</th>\n      <td>Sing 2</td>\n      <td>Garth Jennings (director/screenplay); Matthew ...</td>\n      <td>Music Animation Comedy Family</td>\n      <td>Garth Jennings</td>\n      <td>Matthew McConaughey</td>\n      <td>Reese Witherspoon</td>\n      <td>Scarlett Johansson</td>\n    </tr>\n    <tr>\n      <th>200</th>\n      <td>The King's Man</td>\n      <td>Matthew Vaughn (director/screenplay); Karl Gaj...</td>\n      <td>Action Adventure Comedy</td>\n      <td>Matthew Vaughn</td>\n      <td>Ralph Fiennes</td>\n      <td>Gemma Arterton</td>\n      <td>Rhys Ifans</td>\n    </tr>\n    <tr>\n      <th>201</th>\n      <td>Downton Abbey 2</td>\n      <td>Simon Curtis (director); Julian Fellowes (scre...</td>\n      <td>Drama</td>\n      <td>Simon Curtis</td>\n      <td>Hugh Bonneville</td>\n      <td>Jim Carter</td>\n      <td>Michelle Dockery</td>\n    </tr>\n    <tr>\n      <th>202</th>\n      <td>Cyrano</td>\n      <td>Joe Wright (director); Erica Schmidt (screenpl...</td>\n      <td>Drama Comedy History Romance</td>\n      <td>Joe Wright</td>\n      <td>Peter Dinklage</td>\n      <td>Haley Bennett</td>\n      <td>Ben Mendelsohn</td>\n    </tr>\n  </tbody>\n</table>\n<p>203 rows × 7 columns</p>\n</div>"
          },
          "metadata": {},
          "execution_count": 24
        }
      ]
    },
    {
      "cell_type": "code",
      "metadata": {
        "id": "rBUUnUtfOZWX"
      },
      "source": [
        "df_2021 = df_2021.rename(columns={'Title':'movie_title'})"
      ],
      "execution_count": 25,
      "outputs": []
    },
    {
      "cell_type": "code",
      "metadata": {
        "id": "_WCWVlAqOZWX"
      },
      "source": [
        "new_df21 = df_2021.loc[:,['director_name','actor_1_name','actor_2_name','actor_3_name','genres','movie_title']]"
      ],
      "execution_count": 26,
      "outputs": []
    },
    {
      "cell_type": "code",
      "metadata": {
        "colab": {
          "base_uri": "https://localhost:8080/",
          "height": 406
        },
        "id": "i7KBDmu_OZWX",
        "outputId": "6b4de81e-b1ac-4fb0-d349-52ae7c210346"
      },
      "source": [
        "new_df21"
      ],
      "execution_count": 27,
      "outputs": [
        {
          "output_type": "execute_result",
          "data": {
            "text/plain": [
              "       director_name         actor_1_name       actor_2_name  \\\n",
              "0     Roseanne Liang   Chloë Grace Moretz  Taylor John Smith   \n",
              "1      Ramin Bahrani        Adarsh Gourav      Rajkummar Rao   \n",
              "2         Doug Liman        Anne Hathaway   Chiwetel Ejiofor   \n",
              "3        Simon Stone       Carey Mulligan      Ralph Fiennes   \n",
              "4    Mikael Håfström       Anthony Mackie       Damson Idris   \n",
              "..               ...                  ...                ...   \n",
              "198   Lana Wachowski         Keanu Reeves   Carrie-Anne Moss   \n",
              "199   Garth Jennings  Matthew McConaughey  Reese Witherspoon   \n",
              "200   Matthew Vaughn        Ralph Fiennes     Gemma Arterton   \n",
              "201     Simon Curtis      Hugh Bonneville         Jim Carter   \n",
              "202       Joe Wright       Peter Dinklage      Haley Bennett   \n",
              "\n",
              "              actor_3_name                           genres  \\\n",
              "0             Beulah Koale                Horror Action War   \n",
              "1    Priyanka Chopra Jonas                      Crime Drama   \n",
              "2         Stephen Merchant               Comedy Crime Drama   \n",
              "3               Lily James                    Drama History   \n",
              "4            Emily Beecham  Thriller Action Science Fiction   \n",
              "..                     ...                              ...   \n",
              "198  Yahya Abdul-Mateen II           Action Science Fiction   \n",
              "199     Scarlett Johansson    Music Animation Comedy Family   \n",
              "200             Rhys Ifans          Action Adventure Comedy   \n",
              "201       Michelle Dockery                            Drama   \n",
              "202         Ben Mendelsohn     Drama Comedy History Romance   \n",
              "\n",
              "             movie_title  \n",
              "0    Shadow in the Cloud  \n",
              "1        The White Tiger  \n",
              "2            Locked Down  \n",
              "3                The Dig  \n",
              "4       Outside the Wire  \n",
              "..                   ...  \n",
              "198         The Matrix 4  \n",
              "199               Sing 2  \n",
              "200       The King's Man  \n",
              "201      Downton Abbey 2  \n",
              "202               Cyrano  \n",
              "\n",
              "[203 rows x 6 columns]"
            ],
            "text/html": "<div>\n<style scoped>\n    .dataframe tbody tr th:only-of-type {\n        vertical-align: middle;\n    }\n\n    .dataframe tbody tr th {\n        vertical-align: top;\n    }\n\n    .dataframe thead th {\n        text-align: right;\n    }\n</style>\n<table border=\"1\" class=\"dataframe\">\n  <thead>\n    <tr style=\"text-align: right;\">\n      <th></th>\n      <th>director_name</th>\n      <th>actor_1_name</th>\n      <th>actor_2_name</th>\n      <th>actor_3_name</th>\n      <th>genres</th>\n      <th>movie_title</th>\n    </tr>\n  </thead>\n  <tbody>\n    <tr>\n      <th>0</th>\n      <td>Roseanne Liang</td>\n      <td>Chloë Grace Moretz</td>\n      <td>Taylor John Smith</td>\n      <td>Beulah Koale</td>\n      <td>Horror Action War</td>\n      <td>Shadow in the Cloud</td>\n    </tr>\n    <tr>\n      <th>1</th>\n      <td>Ramin Bahrani</td>\n      <td>Adarsh Gourav</td>\n      <td>Rajkummar Rao</td>\n      <td>Priyanka Chopra Jonas</td>\n      <td>Crime Drama</td>\n      <td>The White Tiger</td>\n    </tr>\n    <tr>\n      <th>2</th>\n      <td>Doug Liman</td>\n      <td>Anne Hathaway</td>\n      <td>Chiwetel Ejiofor</td>\n      <td>Stephen Merchant</td>\n      <td>Comedy Crime Drama</td>\n      <td>Locked Down</td>\n    </tr>\n    <tr>\n      <th>3</th>\n      <td>Simon Stone</td>\n      <td>Carey Mulligan</td>\n      <td>Ralph Fiennes</td>\n      <td>Lily James</td>\n      <td>Drama History</td>\n      <td>The Dig</td>\n    </tr>\n    <tr>\n      <th>4</th>\n      <td>Mikael Håfström</td>\n      <td>Anthony Mackie</td>\n      <td>Damson Idris</td>\n      <td>Emily Beecham</td>\n      <td>Thriller Action Science Fiction</td>\n      <td>Outside the Wire</td>\n    </tr>\n    <tr>\n      <th>...</th>\n      <td>...</td>\n      <td>...</td>\n      <td>...</td>\n      <td>...</td>\n      <td>...</td>\n      <td>...</td>\n    </tr>\n    <tr>\n      <th>198</th>\n      <td>Lana Wachowski</td>\n      <td>Keanu Reeves</td>\n      <td>Carrie-Anne Moss</td>\n      <td>Yahya Abdul-Mateen II</td>\n      <td>Action Science Fiction</td>\n      <td>The Matrix 4</td>\n    </tr>\n    <tr>\n      <th>199</th>\n      <td>Garth Jennings</td>\n      <td>Matthew McConaughey</td>\n      <td>Reese Witherspoon</td>\n      <td>Scarlett Johansson</td>\n      <td>Music Animation Comedy Family</td>\n      <td>Sing 2</td>\n    </tr>\n    <tr>\n      <th>200</th>\n      <td>Matthew Vaughn</td>\n      <td>Ralph Fiennes</td>\n      <td>Gemma Arterton</td>\n      <td>Rhys Ifans</td>\n      <td>Action Adventure Comedy</td>\n      <td>The King's Man</td>\n    </tr>\n    <tr>\n      <th>201</th>\n      <td>Simon Curtis</td>\n      <td>Hugh Bonneville</td>\n      <td>Jim Carter</td>\n      <td>Michelle Dockery</td>\n      <td>Drama</td>\n      <td>Downton Abbey 2</td>\n    </tr>\n    <tr>\n      <th>202</th>\n      <td>Joe Wright</td>\n      <td>Peter Dinklage</td>\n      <td>Haley Bennett</td>\n      <td>Ben Mendelsohn</td>\n      <td>Drama Comedy History Romance</td>\n      <td>Cyrano</td>\n    </tr>\n  </tbody>\n</table>\n<p>203 rows × 6 columns</p>\n</div>"
          },
          "metadata": {},
          "execution_count": 27
        }
      ]
    },
    {
      "cell_type": "code",
      "metadata": {
        "id": "0s7XMhqzOZWY"
      },
      "source": [
        "new_df21['comb'] = new_df21['actor_1_name'] + ' ' + new_df21['actor_2_name'] + ' '+ new_df21['actor_3_name'] + ' '+ new_df21['director_name'] +' ' + new_df21['genres']"
      ],
      "execution_count": 28,
      "outputs": []
    },
    {
      "cell_type": "code",
      "metadata": {
        "colab": {
          "base_uri": "https://localhost:8080/"
        },
        "id": "ta_KcPQJOZWY",
        "outputId": "ac6aa7b7-c156-49b2-9e95-3a76f971f5b1"
      },
      "source": [
        "new_df21.isna().sum()"
      ],
      "execution_count": 29,
      "outputs": [
        {
          "output_type": "execute_result",
          "data": {
            "text/plain": [
              "director_name     0\n",
              "actor_1_name      0\n",
              "actor_2_name      2\n",
              "actor_3_name     10\n",
              "genres            1\n",
              "movie_title       0\n",
              "comb             11\n",
              "dtype: int64"
            ]
          },
          "metadata": {},
          "execution_count": 29
        }
      ]
    },
    {
      "cell_type": "code",
      "metadata": {
        "id": "DkKroG5GOZWY"
      },
      "source": [
        "new_df21 = new_df21.dropna(how='any')"
      ],
      "execution_count": 30,
      "outputs": []
    },
    {
      "cell_type": "code",
      "metadata": {
        "colab": {
          "base_uri": "https://localhost:8080/"
        },
        "id": "YOIv1wvhOZWY",
        "outputId": "c3ad579e-16e2-4d8c-d4a0-71891d71b986"
      },
      "source": [
        "new_df21.isna().sum()"
      ],
      "execution_count": 31,
      "outputs": [
        {
          "output_type": "execute_result",
          "data": {
            "text/plain": [
              "director_name    0\n",
              "actor_1_name     0\n",
              "actor_2_name     0\n",
              "actor_3_name     0\n",
              "genres           0\n",
              "movie_title      0\n",
              "comb             0\n",
              "dtype: int64"
            ]
          },
          "metadata": {},
          "execution_count": 31
        }
      ]
    },
    {
      "cell_type": "code",
      "metadata": {
        "colab": {
          "base_uri": "https://localhost:8080/"
        },
        "id": "IB3YmNWROZWY",
        "outputId": "8abccee1-4b9e-436b-de18-eb97298d73a9"
      },
      "source": [
        "new_df21['movie_title'] = new_df21['movie_title'].str.lower()"
      ],
      "execution_count": 32,
      "outputs": [
        {
          "output_type": "stream",
          "name": "stderr",
          "text": [
            "<ipython-input-32-6e765124d575>:1: SettingWithCopyWarning: \nA value is trying to be set on a copy of a slice from a DataFrame.\nTry using .loc[row_indexer,col_indexer] = value instead\n\nSee the caveats in the documentation: https://pandas.pydata.org/pandas-docs/stable/user_guide/indexing.html#returning-a-view-versus-a-copy\n  new_df21['movie_title'] = new_df21['movie_title'].str.lower()\n"
          ]
        }
      ]
    },
    {
      "cell_type": "code",
      "metadata": {
        "colab": {
          "base_uri": "https://localhost:8080/",
          "height": 406
        },
        "id": "3e3NnY70OZWZ",
        "outputId": "cf4351f9-93f7-40bc-cc24-ab9e45bd8358"
      },
      "source": [
        "new_df21"
      ],
      "execution_count": 33,
      "outputs": [
        {
          "output_type": "execute_result",
          "data": {
            "text/plain": [
              "       director_name         actor_1_name       actor_2_name  \\\n",
              "0     Roseanne Liang   Chloë Grace Moretz  Taylor John Smith   \n",
              "1      Ramin Bahrani        Adarsh Gourav      Rajkummar Rao   \n",
              "2         Doug Liman        Anne Hathaway   Chiwetel Ejiofor   \n",
              "3        Simon Stone       Carey Mulligan      Ralph Fiennes   \n",
              "4    Mikael Håfström       Anthony Mackie       Damson Idris   \n",
              "..               ...                  ...                ...   \n",
              "198   Lana Wachowski         Keanu Reeves   Carrie-Anne Moss   \n",
              "199   Garth Jennings  Matthew McConaughey  Reese Witherspoon   \n",
              "200   Matthew Vaughn        Ralph Fiennes     Gemma Arterton   \n",
              "201     Simon Curtis      Hugh Bonneville         Jim Carter   \n",
              "202       Joe Wright       Peter Dinklage      Haley Bennett   \n",
              "\n",
              "              actor_3_name                           genres  \\\n",
              "0             Beulah Koale                Horror Action War   \n",
              "1    Priyanka Chopra Jonas                      Crime Drama   \n",
              "2         Stephen Merchant               Comedy Crime Drama   \n",
              "3               Lily James                    Drama History   \n",
              "4            Emily Beecham  Thriller Action Science Fiction   \n",
              "..                     ...                              ...   \n",
              "198  Yahya Abdul-Mateen II           Action Science Fiction   \n",
              "199     Scarlett Johansson    Music Animation Comedy Family   \n",
              "200             Rhys Ifans          Action Adventure Comedy   \n",
              "201       Michelle Dockery                            Drama   \n",
              "202         Ben Mendelsohn     Drama Comedy History Romance   \n",
              "\n",
              "             movie_title                                               comb  \n",
              "0    shadow in the cloud  Chloë Grace Moretz Taylor John Smith Beulah Ko...  \n",
              "1        the white tiger  Adarsh Gourav Rajkummar Rao Priyanka Chopra Jo...  \n",
              "2            locked down  Anne Hathaway Chiwetel Ejiofor Stephen Merchan...  \n",
              "3                the dig  Carey Mulligan Ralph Fiennes Lily James Simon ...  \n",
              "4       outside the wire  Anthony Mackie Damson Idris Emily Beecham Mika...  \n",
              "..                   ...                                                ...  \n",
              "198         the matrix 4  Keanu Reeves Carrie-Anne Moss Yahya Abdul-Mate...  \n",
              "199               sing 2  Matthew McConaughey Reese Witherspoon Scarlett...  \n",
              "200       the king's man  Ralph Fiennes Gemma Arterton Rhys Ifans Matthe...  \n",
              "201      downton abbey 2  Hugh Bonneville Jim Carter Michelle Dockery Si...  \n",
              "202               cyrano  Peter Dinklage Haley Bennett Ben Mendelsohn Jo...  \n",
              "\n",
              "[192 rows x 7 columns]"
            ],
            "text/html": "<div>\n<style scoped>\n    .dataframe tbody tr th:only-of-type {\n        vertical-align: middle;\n    }\n\n    .dataframe tbody tr th {\n        vertical-align: top;\n    }\n\n    .dataframe thead th {\n        text-align: right;\n    }\n</style>\n<table border=\"1\" class=\"dataframe\">\n  <thead>\n    <tr style=\"text-align: right;\">\n      <th></th>\n      <th>director_name</th>\n      <th>actor_1_name</th>\n      <th>actor_2_name</th>\n      <th>actor_3_name</th>\n      <th>genres</th>\n      <th>movie_title</th>\n      <th>comb</th>\n    </tr>\n  </thead>\n  <tbody>\n    <tr>\n      <th>0</th>\n      <td>Roseanne Liang</td>\n      <td>Chloë Grace Moretz</td>\n      <td>Taylor John Smith</td>\n      <td>Beulah Koale</td>\n      <td>Horror Action War</td>\n      <td>shadow in the cloud</td>\n      <td>Chloë Grace Moretz Taylor John Smith Beulah Ko...</td>\n    </tr>\n    <tr>\n      <th>1</th>\n      <td>Ramin Bahrani</td>\n      <td>Adarsh Gourav</td>\n      <td>Rajkummar Rao</td>\n      <td>Priyanka Chopra Jonas</td>\n      <td>Crime Drama</td>\n      <td>the white tiger</td>\n      <td>Adarsh Gourav Rajkummar Rao Priyanka Chopra Jo...</td>\n    </tr>\n    <tr>\n      <th>2</th>\n      <td>Doug Liman</td>\n      <td>Anne Hathaway</td>\n      <td>Chiwetel Ejiofor</td>\n      <td>Stephen Merchant</td>\n      <td>Comedy Crime Drama</td>\n      <td>locked down</td>\n      <td>Anne Hathaway Chiwetel Ejiofor Stephen Merchan...</td>\n    </tr>\n    <tr>\n      <th>3</th>\n      <td>Simon Stone</td>\n      <td>Carey Mulligan</td>\n      <td>Ralph Fiennes</td>\n      <td>Lily James</td>\n      <td>Drama History</td>\n      <td>the dig</td>\n      <td>Carey Mulligan Ralph Fiennes Lily James Simon ...</td>\n    </tr>\n    <tr>\n      <th>4</th>\n      <td>Mikael Håfström</td>\n      <td>Anthony Mackie</td>\n      <td>Damson Idris</td>\n      <td>Emily Beecham</td>\n      <td>Thriller Action Science Fiction</td>\n      <td>outside the wire</td>\n      <td>Anthony Mackie Damson Idris Emily Beecham Mika...</td>\n    </tr>\n    <tr>\n      <th>...</th>\n      <td>...</td>\n      <td>...</td>\n      <td>...</td>\n      <td>...</td>\n      <td>...</td>\n      <td>...</td>\n      <td>...</td>\n    </tr>\n    <tr>\n      <th>198</th>\n      <td>Lana Wachowski</td>\n      <td>Keanu Reeves</td>\n      <td>Carrie-Anne Moss</td>\n      <td>Yahya Abdul-Mateen II</td>\n      <td>Action Science Fiction</td>\n      <td>the matrix 4</td>\n      <td>Keanu Reeves Carrie-Anne Moss Yahya Abdul-Mate...</td>\n    </tr>\n    <tr>\n      <th>199</th>\n      <td>Garth Jennings</td>\n      <td>Matthew McConaughey</td>\n      <td>Reese Witherspoon</td>\n      <td>Scarlett Johansson</td>\n      <td>Music Animation Comedy Family</td>\n      <td>sing 2</td>\n      <td>Matthew McConaughey Reese Witherspoon Scarlett...</td>\n    </tr>\n    <tr>\n      <th>200</th>\n      <td>Matthew Vaughn</td>\n      <td>Ralph Fiennes</td>\n      <td>Gemma Arterton</td>\n      <td>Rhys Ifans</td>\n      <td>Action Adventure Comedy</td>\n      <td>the king's man</td>\n      <td>Ralph Fiennes Gemma Arterton Rhys Ifans Matthe...</td>\n    </tr>\n    <tr>\n      <th>201</th>\n      <td>Simon Curtis</td>\n      <td>Hugh Bonneville</td>\n      <td>Jim Carter</td>\n      <td>Michelle Dockery</td>\n      <td>Drama</td>\n      <td>downton abbey 2</td>\n      <td>Hugh Bonneville Jim Carter Michelle Dockery Si...</td>\n    </tr>\n    <tr>\n      <th>202</th>\n      <td>Joe Wright</td>\n      <td>Peter Dinklage</td>\n      <td>Haley Bennett</td>\n      <td>Ben Mendelsohn</td>\n      <td>Drama Comedy History Romance</td>\n      <td>cyrano</td>\n      <td>Peter Dinklage Haley Bennett Ben Mendelsohn Jo...</td>\n    </tr>\n  </tbody>\n</table>\n<p>192 rows × 7 columns</p>\n</div>"
          },
          "metadata": {},
          "execution_count": 33
        }
      ]
    },
    {
      "cell_type": "code",
      "metadata": {
        "id": "BCf9fH_4OZWZ"
      },
      "source": [
        "old_df = pd.read_csv('main_data.csv')"
      ],
      "execution_count": 34,
      "outputs": []
    },
    {
      "cell_type": "code",
      "metadata": {
        "id": "ce2e426yOZWZ",
        "outputId": "7d2c0bd7-6907-4398-c385-829b04ad921e"
      },
      "source": [
        "old_df"
      ],
      "execution_count": 35,
      "outputs": [
        {
          "output_type": "execute_result",
          "data": {
            "text/plain": [
              "          director_name           actor_1_name      actor_2_name  \\\n",
              "0         James Cameron            CCH Pounder  Joel David Moore   \n",
              "1        Gore Verbinski            Johnny Depp     Orlando Bloom   \n",
              "2            Sam Mendes        Christoph Waltz      Rory Kinnear   \n",
              "3     Christopher Nolan              Tom Hardy    Christian Bale   \n",
              "4           Doug Walker            Doug Walker        Rob Walker   \n",
              "...                 ...                    ...               ...   \n",
              "6110        Pete Docter             Jamie Foxx          Tina Fey   \n",
              "6111   Robert Rodriguez  Priyanka Chopra Jonas      Pedro Pascal   \n",
              "6112        Regina King      Kingsley Ben-Adir         Eli Goree   \n",
              "6113    Emerald Fennell         Carey Mulligan        Bo Burnham   \n",
              "6114   Kornél Mundruczó          Vanessa Kirby      Shia LaBeouf   \n",
              "\n",
              "              actor_3_name                                       genres  \\\n",
              "0                Wes Studi              Action Adventure Fantasy Sci-Fi   \n",
              "1           Jack Davenport                     Action Adventure Fantasy   \n",
              "2         Stephanie Sigman                    Action Adventure Thriller   \n",
              "3     Joseph Gordon-Levitt                              Action Thriller   \n",
              "4                  unknown                                  Documentary   \n",
              "...                    ...                                          ...   \n",
              "6110         Graham Norton  Family Animation Comedy Drama Music Fantasy   \n",
              "6111         YaYa Gosselin                 Action Fantasy Family Comedy   \n",
              "6112           Aldis Hodge                                        Drama   \n",
              "6113           Alison Brie                         Thriller Crime Drama   \n",
              "6114          Molly Parker                                        Drama   \n",
              "\n",
              "                                            movie_title  \\\n",
              "0                                                avatar   \n",
              "1              pirates of the caribbean: at world's end   \n",
              "2                                               spectre   \n",
              "3                                 the dark knight rises   \n",
              "4     star wars: episode vii - the force awakens    ...   \n",
              "...                                                 ...   \n",
              "6110                                               soul   \n",
              "6111                                   we can be heroes   \n",
              "6112                              one night in miami...   \n",
              "6113                              promising young woman   \n",
              "6114                                  pieces of a woman   \n",
              "\n",
              "                                                   comb  \n",
              "0     CCH Pounder Joel David Moore Wes Studi James C...  \n",
              "1     Johnny Depp Orlando Bloom Jack Davenport Gore ...  \n",
              "2     Christoph Waltz Rory Kinnear Stephanie Sigman ...  \n",
              "3     Tom Hardy Christian Bale Joseph Gordon-Levitt ...  \n",
              "4     Doug Walker Rob Walker unknown Doug Walker Doc...  \n",
              "...                                                 ...  \n",
              "6110  Jamie Foxx Tina Fey Graham Norton Pete Docter ...  \n",
              "6111  Priyanka Chopra Jonas Pedro Pascal YaYa Gossel...  \n",
              "6112  Kingsley Ben-Adir Eli Goree Aldis Hodge Regina...  \n",
              "6113  Carey Mulligan Bo Burnham Alison Brie Emerald ...  \n",
              "6114  Vanessa Kirby Shia LaBeouf Molly Parker Kornél...  \n",
              "\n",
              "[6115 rows x 7 columns]"
            ],
            "text/html": "<div>\n<style scoped>\n    .dataframe tbody tr th:only-of-type {\n        vertical-align: middle;\n    }\n\n    .dataframe tbody tr th {\n        vertical-align: top;\n    }\n\n    .dataframe thead th {\n        text-align: right;\n    }\n</style>\n<table border=\"1\" class=\"dataframe\">\n  <thead>\n    <tr style=\"text-align: right;\">\n      <th></th>\n      <th>director_name</th>\n      <th>actor_1_name</th>\n      <th>actor_2_name</th>\n      <th>actor_3_name</th>\n      <th>genres</th>\n      <th>movie_title</th>\n      <th>comb</th>\n    </tr>\n  </thead>\n  <tbody>\n    <tr>\n      <th>0</th>\n      <td>James Cameron</td>\n      <td>CCH Pounder</td>\n      <td>Joel David Moore</td>\n      <td>Wes Studi</td>\n      <td>Action Adventure Fantasy Sci-Fi</td>\n      <td>avatar</td>\n      <td>CCH Pounder Joel David Moore Wes Studi James C...</td>\n    </tr>\n    <tr>\n      <th>1</th>\n      <td>Gore Verbinski</td>\n      <td>Johnny Depp</td>\n      <td>Orlando Bloom</td>\n      <td>Jack Davenport</td>\n      <td>Action Adventure Fantasy</td>\n      <td>pirates of the caribbean: at world's end</td>\n      <td>Johnny Depp Orlando Bloom Jack Davenport Gore ...</td>\n    </tr>\n    <tr>\n      <th>2</th>\n      <td>Sam Mendes</td>\n      <td>Christoph Waltz</td>\n      <td>Rory Kinnear</td>\n      <td>Stephanie Sigman</td>\n      <td>Action Adventure Thriller</td>\n      <td>spectre</td>\n      <td>Christoph Waltz Rory Kinnear Stephanie Sigman ...</td>\n    </tr>\n    <tr>\n      <th>3</th>\n      <td>Christopher Nolan</td>\n      <td>Tom Hardy</td>\n      <td>Christian Bale</td>\n      <td>Joseph Gordon-Levitt</td>\n      <td>Action Thriller</td>\n      <td>the dark knight rises</td>\n      <td>Tom Hardy Christian Bale Joseph Gordon-Levitt ...</td>\n    </tr>\n    <tr>\n      <th>4</th>\n      <td>Doug Walker</td>\n      <td>Doug Walker</td>\n      <td>Rob Walker</td>\n      <td>unknown</td>\n      <td>Documentary</td>\n      <td>star wars: episode vii - the force awakens    ...</td>\n      <td>Doug Walker Rob Walker unknown Doug Walker Doc...</td>\n    </tr>\n    <tr>\n      <th>...</th>\n      <td>...</td>\n      <td>...</td>\n      <td>...</td>\n      <td>...</td>\n      <td>...</td>\n      <td>...</td>\n      <td>...</td>\n    </tr>\n    <tr>\n      <th>6110</th>\n      <td>Pete Docter</td>\n      <td>Jamie Foxx</td>\n      <td>Tina Fey</td>\n      <td>Graham Norton</td>\n      <td>Family Animation Comedy Drama Music Fantasy</td>\n      <td>soul</td>\n      <td>Jamie Foxx Tina Fey Graham Norton Pete Docter ...</td>\n    </tr>\n    <tr>\n      <th>6111</th>\n      <td>Robert Rodriguez</td>\n      <td>Priyanka Chopra Jonas</td>\n      <td>Pedro Pascal</td>\n      <td>YaYa Gosselin</td>\n      <td>Action Fantasy Family Comedy</td>\n      <td>we can be heroes</td>\n      <td>Priyanka Chopra Jonas Pedro Pascal YaYa Gossel...</td>\n    </tr>\n    <tr>\n      <th>6112</th>\n      <td>Regina King</td>\n      <td>Kingsley Ben-Adir</td>\n      <td>Eli Goree</td>\n      <td>Aldis Hodge</td>\n      <td>Drama</td>\n      <td>one night in miami...</td>\n      <td>Kingsley Ben-Adir Eli Goree Aldis Hodge Regina...</td>\n    </tr>\n    <tr>\n      <th>6113</th>\n      <td>Emerald Fennell</td>\n      <td>Carey Mulligan</td>\n      <td>Bo Burnham</td>\n      <td>Alison Brie</td>\n      <td>Thriller Crime Drama</td>\n      <td>promising young woman</td>\n      <td>Carey Mulligan Bo Burnham Alison Brie Emerald ...</td>\n    </tr>\n    <tr>\n      <th>6114</th>\n      <td>Kornél Mundruczó</td>\n      <td>Vanessa Kirby</td>\n      <td>Shia LaBeouf</td>\n      <td>Molly Parker</td>\n      <td>Drama</td>\n      <td>pieces of a woman</td>\n      <td>Vanessa Kirby Shia LaBeouf Molly Parker Kornél...</td>\n    </tr>\n  </tbody>\n</table>\n<p>6115 rows × 7 columns</p>\n</div>"
          },
          "metadata": {},
          "execution_count": 35
        }
      ]
    },
    {
      "cell_type": "code",
      "metadata": {
        "id": "P14B9e3GOZWZ"
      },
      "source": [
        "final_df = old_df.append(new_df21,ignore_index=True)"
      ],
      "execution_count": 37,
      "outputs": []
    },
    {
      "cell_type": "code",
      "metadata": {
        "id": "0RAVcY-jOZWZ",
        "outputId": "0e87fe5f-5a7a-4792-edf3-a5027e667af0"
      },
      "source": [
        "final_df"
      ],
      "execution_count": 38,
      "outputs": [
        {
          "output_type": "execute_result",
          "data": {
            "text/plain": [
              "          director_name         actor_1_name       actor_2_name  \\\n",
              "0         James Cameron          CCH Pounder   Joel David Moore   \n",
              "1        Gore Verbinski          Johnny Depp      Orlando Bloom   \n",
              "2            Sam Mendes      Christoph Waltz       Rory Kinnear   \n",
              "3     Christopher Nolan            Tom Hardy     Christian Bale   \n",
              "4           Doug Walker          Doug Walker         Rob Walker   \n",
              "...                 ...                  ...                ...   \n",
              "6302     Lana Wachowski         Keanu Reeves   Carrie-Anne Moss   \n",
              "6303     Garth Jennings  Matthew McConaughey  Reese Witherspoon   \n",
              "6304     Matthew Vaughn        Ralph Fiennes     Gemma Arterton   \n",
              "6305       Simon Curtis      Hugh Bonneville         Jim Carter   \n",
              "6306         Joe Wright       Peter Dinklage      Haley Bennett   \n",
              "\n",
              "               actor_3_name                           genres  \\\n",
              "0                 Wes Studi  Action Adventure Fantasy Sci-Fi   \n",
              "1            Jack Davenport         Action Adventure Fantasy   \n",
              "2          Stephanie Sigman        Action Adventure Thriller   \n",
              "3      Joseph Gordon-Levitt                  Action Thriller   \n",
              "4                   unknown                      Documentary   \n",
              "...                     ...                              ...   \n",
              "6302  Yahya Abdul-Mateen II           Action Science Fiction   \n",
              "6303     Scarlett Johansson    Music Animation Comedy Family   \n",
              "6304             Rhys Ifans          Action Adventure Comedy   \n",
              "6305       Michelle Dockery                            Drama   \n",
              "6306         Ben Mendelsohn     Drama Comedy History Romance   \n",
              "\n",
              "                                            movie_title  \\\n",
              "0                                                avatar   \n",
              "1              pirates of the caribbean: at world's end   \n",
              "2                                               spectre   \n",
              "3                                 the dark knight rises   \n",
              "4     star wars: episode vii - the force awakens    ...   \n",
              "...                                                 ...   \n",
              "6302                                       the matrix 4   \n",
              "6303                                             sing 2   \n",
              "6304                                     the king's man   \n",
              "6305                                    downton abbey 2   \n",
              "6306                                             cyrano   \n",
              "\n",
              "                                                   comb  \n",
              "0     CCH Pounder Joel David Moore Wes Studi James C...  \n",
              "1     Johnny Depp Orlando Bloom Jack Davenport Gore ...  \n",
              "2     Christoph Waltz Rory Kinnear Stephanie Sigman ...  \n",
              "3     Tom Hardy Christian Bale Joseph Gordon-Levitt ...  \n",
              "4     Doug Walker Rob Walker unknown Doug Walker Doc...  \n",
              "...                                                 ...  \n",
              "6302  Keanu Reeves Carrie-Anne Moss Yahya Abdul-Mate...  \n",
              "6303  Matthew McConaughey Reese Witherspoon Scarlett...  \n",
              "6304  Ralph Fiennes Gemma Arterton Rhys Ifans Matthe...  \n",
              "6305  Hugh Bonneville Jim Carter Michelle Dockery Si...  \n",
              "6306  Peter Dinklage Haley Bennett Ben Mendelsohn Jo...  \n",
              "\n",
              "[6307 rows x 7 columns]"
            ],
            "text/html": "<div>\n<style scoped>\n    .dataframe tbody tr th:only-of-type {\n        vertical-align: middle;\n    }\n\n    .dataframe tbody tr th {\n        vertical-align: top;\n    }\n\n    .dataframe thead th {\n        text-align: right;\n    }\n</style>\n<table border=\"1\" class=\"dataframe\">\n  <thead>\n    <tr style=\"text-align: right;\">\n      <th></th>\n      <th>director_name</th>\n      <th>actor_1_name</th>\n      <th>actor_2_name</th>\n      <th>actor_3_name</th>\n      <th>genres</th>\n      <th>movie_title</th>\n      <th>comb</th>\n    </tr>\n  </thead>\n  <tbody>\n    <tr>\n      <th>0</th>\n      <td>James Cameron</td>\n      <td>CCH Pounder</td>\n      <td>Joel David Moore</td>\n      <td>Wes Studi</td>\n      <td>Action Adventure Fantasy Sci-Fi</td>\n      <td>avatar</td>\n      <td>CCH Pounder Joel David Moore Wes Studi James C...</td>\n    </tr>\n    <tr>\n      <th>1</th>\n      <td>Gore Verbinski</td>\n      <td>Johnny Depp</td>\n      <td>Orlando Bloom</td>\n      <td>Jack Davenport</td>\n      <td>Action Adventure Fantasy</td>\n      <td>pirates of the caribbean: at world's end</td>\n      <td>Johnny Depp Orlando Bloom Jack Davenport Gore ...</td>\n    </tr>\n    <tr>\n      <th>2</th>\n      <td>Sam Mendes</td>\n      <td>Christoph Waltz</td>\n      <td>Rory Kinnear</td>\n      <td>Stephanie Sigman</td>\n      <td>Action Adventure Thriller</td>\n      <td>spectre</td>\n      <td>Christoph Waltz Rory Kinnear Stephanie Sigman ...</td>\n    </tr>\n    <tr>\n      <th>3</th>\n      <td>Christopher Nolan</td>\n      <td>Tom Hardy</td>\n      <td>Christian Bale</td>\n      <td>Joseph Gordon-Levitt</td>\n      <td>Action Thriller</td>\n      <td>the dark knight rises</td>\n      <td>Tom Hardy Christian Bale Joseph Gordon-Levitt ...</td>\n    </tr>\n    <tr>\n      <th>4</th>\n      <td>Doug Walker</td>\n      <td>Doug Walker</td>\n      <td>Rob Walker</td>\n      <td>unknown</td>\n      <td>Documentary</td>\n      <td>star wars: episode vii - the force awakens    ...</td>\n      <td>Doug Walker Rob Walker unknown Doug Walker Doc...</td>\n    </tr>\n    <tr>\n      <th>...</th>\n      <td>...</td>\n      <td>...</td>\n      <td>...</td>\n      <td>...</td>\n      <td>...</td>\n      <td>...</td>\n      <td>...</td>\n    </tr>\n    <tr>\n      <th>6302</th>\n      <td>Lana Wachowski</td>\n      <td>Keanu Reeves</td>\n      <td>Carrie-Anne Moss</td>\n      <td>Yahya Abdul-Mateen II</td>\n      <td>Action Science Fiction</td>\n      <td>the matrix 4</td>\n      <td>Keanu Reeves Carrie-Anne Moss Yahya Abdul-Mate...</td>\n    </tr>\n    <tr>\n      <th>6303</th>\n      <td>Garth Jennings</td>\n      <td>Matthew McConaughey</td>\n      <td>Reese Witherspoon</td>\n      <td>Scarlett Johansson</td>\n      <td>Music Animation Comedy Family</td>\n      <td>sing 2</td>\n      <td>Matthew McConaughey Reese Witherspoon Scarlett...</td>\n    </tr>\n    <tr>\n      <th>6304</th>\n      <td>Matthew Vaughn</td>\n      <td>Ralph Fiennes</td>\n      <td>Gemma Arterton</td>\n      <td>Rhys Ifans</td>\n      <td>Action Adventure Comedy</td>\n      <td>the king's man</td>\n      <td>Ralph Fiennes Gemma Arterton Rhys Ifans Matthe...</td>\n    </tr>\n    <tr>\n      <th>6305</th>\n      <td>Simon Curtis</td>\n      <td>Hugh Bonneville</td>\n      <td>Jim Carter</td>\n      <td>Michelle Dockery</td>\n      <td>Drama</td>\n      <td>downton abbey 2</td>\n      <td>Hugh Bonneville Jim Carter Michelle Dockery Si...</td>\n    </tr>\n    <tr>\n      <th>6306</th>\n      <td>Joe Wright</td>\n      <td>Peter Dinklage</td>\n      <td>Haley Bennett</td>\n      <td>Ben Mendelsohn</td>\n      <td>Drama Comedy History Romance</td>\n      <td>cyrano</td>\n      <td>Peter Dinklage Haley Bennett Ben Mendelsohn Jo...</td>\n    </tr>\n  </tbody>\n</table>\n<p>6307 rows × 7 columns</p>\n</div>"
          },
          "metadata": {},
          "execution_count": 38
        }
      ]
    },
    {
      "cell_type": "code",
      "metadata": {
        "id": "gCTWwaOiOZWZ"
      },
      "source": [
        "final_df.to_csv('final_main_data.csv',index=False)"
      ],
      "execution_count": 39,
      "outputs": []
    },
    {
      "cell_type": "code",
      "execution_count": null,
      "metadata": {},
      "outputs": [],
      "source": []
    }
  ]
}